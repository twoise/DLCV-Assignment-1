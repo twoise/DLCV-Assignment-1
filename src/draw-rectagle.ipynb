{
 "cells": [
  {
   "cell_type": "code",
   "execution_count": 292,
   "metadata": {},
   "outputs": [],
   "source": [
    "import cv2\n",
    "import numpy as np\n",
    "import datetime\n",
    "import matplotlib.pyplot as plt"
   ]
  },
  {
   "cell_type": "code",
   "execution_count": 293,
   "metadata": {},
   "outputs": [],
   "source": [
    "#data x, y coordidate\n",
    "\n",
    "# data = [(477, 48), (1697, 786)]\n",
    "# data = [(560, 41),(1875, 744)]\n",
    "# data = [(531, 21),(1671, 691)]\n",
    "# data = [(504, 36), (1660, 713)]\n",
    "# data = [(421, 15),(1432, 656)]\n",
    "# data =[(680, 68), (1911, 959)]\n",
    "# data =[(471, 13), (1592, 666)]\n",
    "# data=[(592, 26), (1764, 812)]\n",
    "# data=[(527, 14), (1660, 686)]\n",
    "# data=[(604, 68), (1792, 830)]\n",
    "# data=[(611, 79), (1774, 835)]\n",
    "# data = [(540, 7), (1824, 908)]\n",
    "# data=[(544, 41),(1813, 827)]\n",
    "# data = [(518, 13), (1512, 622)]\n",
    "# data = [(618, 36), (1818, 783)]\n",
    "# data = [(443, 15), (1421, 641)]\n",
    "# data = [(599, 38), (1678, 750)]\n",
    "# data = [(663, 104), (1879, 890)]\n",
    "# data = [(445, 12), (1358, 625)]\n",
    "# data = [(540, 51), (1768, 862)]\n",
    "# data = [(502, 27), (1607, 708)]\n",
    "# data = [(441, 17), (1511, 619)]\n",
    "# data = [(507, 52), (1763, 758)]\n",
    "# data =[(544, 59), (1723, 804)]\n",
    "# data = [(542, 25), (1747, 780)]\n",
    "# data = [(647, 23), (1845, 801)]\n",
    "# data =[(537, 43), (1607, 712)]\n",
    "# data = [(511, 43), (1636, 697)]\n",
    "# data = [(526, 50), (1779, 754)]\n",
    "# data = [(454, 3), (1458, 656)]\n",
    "# data = [(554, 47), (1583, 654)]\n",
    "# data = [(311, 110), (1909, 1024)]\n",
    "# data = [(26, 53), (1512, 783)]\n",
    "# data = [(583, 40), (1611, 693)]\n",
    "# data = [(654, 68), (1908, 904)]\n",
    "# data = [(555, 34), (1695, 756)]\n",
    "# data = [(510, 29), (1569, 653)]\n",
    "# data = [(546, 64), (1753, 735)]\n",
    "# data = [(508, 110), (1905, 987)]\n",
    "# data = [(322, 32), (1419, 652)]\n",
    "# data = [(612, 52), (1683, 745)]\n",
    "# data = [(464, 3),(1577, 668)] \n",
    "# data = [(618, 80), (1892, 876)]\n",
    "# data = [(548, 15), (1733, 792)]\n",
    "# data = [(601, 83), (1796, 809)]\n",
    "# data=[(628, 100), (1790, 792)]\n",
    "# data = [(494, 31),(1507, 646)] \n",
    "# data = [(510, 36), (1534, 644)]\n",
    "# data = [(705, 52), (1876, 945)]\n",
    "# data = [(508, 33), (1593, 691)]\n",
    "# data = [(552, 48), (1905, 820)]\n",
    "# data = [(628, 62), (1804, 801)]\n",
    "# data = [(604, 38), (1752, 734)]\n",
    "# data = [(561, 33), (1612, 676)]\n",
    "# data = [(566, 28), (1584, 633)]\n",
    "# data = [(432, 52), (451, 998), (1684, 710)]\n",
    "# data = [(388, 38), (427, 993), (1468, 672)]\n",
    "# data = [(360, 24), (360, 849), (1372, 609)]\n",
    "# data = [(350, 19), (297, 830), (1272, 542)]\n",
    "# data = [(345, 19), (350, 888), (1286, 537)]\n",
    "# data = [(297, 19), (283, 696), (1171, 484)]\n",
    "# data = [(288, 14), (292, 782), (1128, 470)]\n",
    "# data = [(302, 4), (340, 777), (1132, 470)]\n",
    "# data = [(561, 86), (537, 1012), (1876, 878)]\n",
    "# data =[(537, 81), (576, 1036), (1876, 897)]\n",
    "# data =[(552, 100), (528, 1022), (1881, 864)]\n",
    "# data = [(403, 33), (360, 974), (1459, 638)]\n",
    "# data = [(379, 14), (403, 849), (1430, 624)]\n",
    "# data = [(379, 14), (436, 820), (1406, 624)]\n",
    "# data = [(369, 19), (451, 873), (1368, 600)]\n",
    "# data = [(504, 24), (604, 950), (1579, 638)]\n",
    "# data = [(508, 24), (600, 787), (1588, 633)]\n",
    "# data = [(801, 100), (921, 1022), (1910, 960)]\n",
    "# data = [(686, 67), (849, 1022), (1809, 768)]\n",
    "# data = [(609, 76), (662, 974), (1910, 945)]\n",
    "# data = [(566, 57), (619, 1032), (1838, 830)]\n",
    "# data = [(552, 38), (686, 969), (1756, 772)]\n",
    "# data = [(499, 24), (571, 931), (1651, 734)]\n",
    "# data = [(700, 62), (777, 998), (1876, 811)]\n",
    "# data = [(705, 62), (758, 945), (1838, 787)]\n",
    "# data = [(614, 38), (686, 979), (1660, 696)]\n",
    "# data = [(585, 48), (638, 868), (1617, 686)]\n",
    "# data = [(590, 48), (628, 921), (1622, 700)]\n",
    "# data = [(556, 38), (590, 724), (1598, 667)]\n",
    "# data = [(513, 24), (513, 398), (1478, 633)]\n",
    "data = [(456, 4), (513, 768), (1281, 542)]\n",
    "x1, y1 = data[0]\n",
    "x2, y2 = data[2]"
   ]
  },
  {
   "cell_type": "code",
   "execution_count": 294,
   "metadata": {},
   "outputs": [],
   "source": [
    "image = cv2.imread('/media/two-asus/Two3/AIT/DLCV/DLCV-Lab/assignment-1/100-images/img100.jpg')"
   ]
  },
  {
   "cell_type": "code",
   "execution_count": 295,
   "metadata": {},
   "outputs": [],
   "source": [
    "start_point = (x1, y1)  # Top-left corner\n",
    "end_point = (x2, y2)    # Bottom-right corner\n",
    "color = (0, 255, 0)  \n",
    "thickness = 2\n"
   ]
  },
  {
   "cell_type": "code",
   "execution_count": 296,
   "metadata": {},
   "outputs": [
    {
     "data": {
      "text/plain": [
       "True"
      ]
     },
     "execution_count": 296,
     "metadata": {},
     "output_type": "execute_result"
    }
   ],
   "source": [
    "cv2.rectangle(image, start_point, end_point, color, thickness)\n",
    "current_time = datetime.datetime.now().strftime(\"%Y%m%d%H%M%S\")\n",
    "filename = f'/media/two-asus/Two3/AIT/DLCV/DLCV-Lab/assignment-1/result/result_image_{current_time}.jpg'\n",
    "cv2.imwrite(filename, image)"
   ]
  }
 ],
 "metadata": {
  "kernelspec": {
   "display_name": "comvis",
   "language": "python",
   "name": "python3"
  },
  "language_info": {
   "codemirror_mode": {
    "name": "ipython",
    "version": 3
   },
   "file_extension": ".py",
   "mimetype": "text/x-python",
   "name": "python",
   "nbconvert_exporter": "python",
   "pygments_lexer": "ipython3",
   "version": "3.9.17"
  },
  "orig_nbformat": 4
 },
 "nbformat": 4,
 "nbformat_minor": 2
}
